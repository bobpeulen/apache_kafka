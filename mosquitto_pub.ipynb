{
 "cells": [
  {
   "cell_type": "markdown",
   "id": "dd365836-93ff-4017-aaa6-a12e8a808d01",
   "metadata": {},
   "source": [
    "### OCI Data Science - Useful Tips\n",
    "<details>\n",
    "<summary><font size=\"2\">Check for Public Internet Access</font></summary>\n",
    "\n",
    "```python\n",
    "import requests\n",
    "response = requests.get(\"https://oracle.com\")\n",
    "assert response.status_code==200, \"Internet connection failed\"\n",
    "```\n",
    "</details>\n",
    "<details>\n",
    "<summary><font size=\"2\">Helpful Documentation </font></summary>\n",
    "<ul><li><a href=\"https://docs.cloud.oracle.com/en-us/iaas/data-science/using/data-science.htm\">Data Science Service Documentation</a></li>\n",
    "<li><a href=\"https://docs.cloud.oracle.com/iaas/tools/ads-sdk/latest/index.html\">ADS documentation</a></li>\n",
    "</ul>\n",
    "</details>\n",
    "<details>\n",
    "<summary><font size=\"2\">Typical Cell Imports and Settings for ADS</font></summary>\n",
    "\n",
    "```python\n",
    "%load_ext autoreload\n",
    "%autoreload 2\n",
    "%matplotlib inline\n",
    "\n",
    "import warnings\n",
    "warnings.filterwarnings('ignore')\n",
    "\n",
    "import logging\n",
    "logging.basicConfig(format='%(levelname)s:%(message)s', level=logging.ERROR)\n",
    "\n",
    "import ads\n",
    "from ads.dataset.factory import DatasetFactory\n",
    "from ads.automl.provider import OracleAutoMLProvider\n",
    "from ads.automl.driver import AutoML\n",
    "from ads.evaluations.evaluator import ADSEvaluator\n",
    "from ads.common.data import ADSData\n",
    "from ads.explanations.explainer import ADSExplainer\n",
    "from ads.explanations.mlx_global_explainer import MLXGlobalExplainer\n",
    "from ads.explanations.mlx_local_explainer import MLXLocalExplainer\n",
    "from ads.catalog.model import ModelCatalog\n",
    "from ads.common.model_artifact import ModelArtifact\n",
    "```\n",
    "</details>\n",
    "<details>\n",
    "<summary><font size=\"2\">Useful Environment Variables</font></summary>\n",
    "\n",
    "```python\n",
    "import os\n",
    "print(os.environ[\"NB_SESSION_COMPARTMENT_OCID\"])\n",
    "print(os.environ[\"PROJECT_OCID\"])\n",
    "print(os.environ[\"USER_OCID\"])\n",
    "print(os.environ[\"TENANCY_OCID\"])\n",
    "print(os.environ[\"NB_REGION\"])\n",
    "```\n",
    "</details>"
   ]
  },
  {
   "cell_type": "code",
   "execution_count": null,
   "id": "b6822986-6ae3-4db6-8538-fbcddb841213",
   "metadata": {
    "tags": []
   },
   "outputs": [],
   "source": [
    "#!pip install 'paho-mqtt<2.0.0'"
   ]
  },
  {
   "cell_type": "code",
   "execution_count": 6,
   "id": "7aea724a-2cfd-49b0-8cd7-ef406d79e68d",
   "metadata": {
    "tags": []
   },
   "outputs": [
    {
     "ename": "ValueError",
     "evalue": "Must configure SSL context before using tls_insecure_set.",
     "output_type": "error",
     "traceback": [
      "\u001b[0;31m---------------------------------------------------------------------------\u001b[0m",
      "\u001b[0;31mValueError\u001b[0m                                Traceback (most recent call last)",
      "\u001b[0;32m/tmp/ipykernel_26412/2499558657.py\u001b[0m in \u001b[0;36m<cell line: 17>\u001b[0;34m()\u001b[0m\n\u001b[1;32m     15\u001b[0m \u001b[0;31m# #client.tls_set(ca_certs=\"ca.crt\")\u001b[0m\u001b[0;34m\u001b[0m\u001b[0;34m\u001b[0m\u001b[0m\n\u001b[1;32m     16\u001b[0m \u001b[0;31m# client.tls_set(ca_certs=\"ca-root-cert.crt\")\u001b[0m\u001b[0;34m\u001b[0m\u001b[0;34m\u001b[0m\u001b[0m\n\u001b[0;32m---> 17\u001b[0;31m \u001b[0mclient\u001b[0m\u001b[0;34m.\u001b[0m\u001b[0mtls_insecure_set\u001b[0m\u001b[0;34m(\u001b[0m\u001b[0;32mTrue\u001b[0m\u001b[0;34m)\u001b[0m\u001b[0;34m\u001b[0m\u001b[0;34m\u001b[0m\u001b[0m\n\u001b[0m\u001b[1;32m     18\u001b[0m \u001b[0;31m#client = mqtt_client.Client(mqtt_client.CallbackAPIVersion.VERSION1, \"Client1\")\u001b[0m\u001b[0;34m\u001b[0m\u001b[0;34m\u001b[0m\u001b[0m\n\u001b[1;32m     19\u001b[0m \u001b[0mclient\u001b[0m\u001b[0;34m.\u001b[0m\u001b[0musername_pw_set\u001b[0m\u001b[0;34m(\u001b[0m\u001b[0musername\u001b[0m\u001b[0;34m=\u001b[0m\u001b[0;34m\"bob\"\u001b[0m\u001b[0;34m,\u001b[0m \u001b[0mpassword\u001b[0m\u001b[0;34m=\u001b[0m\u001b[0;34m\"Herkenbosch@789\"\u001b[0m\u001b[0;34m)\u001b[0m \u001b[0;31m# uncomment if you use password auth\u001b[0m\u001b[0;34m\u001b[0m\u001b[0;34m\u001b[0m\u001b[0m\n",
      "\u001b[0;32m~/conda/pytorch21_p39_gpu_v1/lib/python3.9/site-packages/paho/mqtt/client.py\u001b[0m in \u001b[0;36mtls_insecure_set\u001b[0;34m(self, value)\u001b[0m\n\u001b[1;32m    835\u001b[0m \u001b[0;34m\u001b[0m\u001b[0m\n\u001b[1;32m    836\u001b[0m         \u001b[0;32mif\u001b[0m \u001b[0mself\u001b[0m\u001b[0;34m.\u001b[0m\u001b[0m_ssl_context\u001b[0m \u001b[0;32mis\u001b[0m \u001b[0;32mNone\u001b[0m\u001b[0;34m:\u001b[0m\u001b[0;34m\u001b[0m\u001b[0;34m\u001b[0m\u001b[0m\n\u001b[0;32m--> 837\u001b[0;31m             raise ValueError(\n\u001b[0m\u001b[1;32m    838\u001b[0m                 'Must configure SSL context before using tls_insecure_set.')\n\u001b[1;32m    839\u001b[0m \u001b[0;34m\u001b[0m\u001b[0m\n",
      "\u001b[0;31mValueError\u001b[0m: Must configure SSL context before using tls_insecure_set."
     ]
    }
   ],
   "source": [
    "import paho.mqtt.client as mqtt \n",
    "import time \n",
    "import uuid\n",
    "\n",
    "def on_connect(client, userdata, flags, return_code):\n",
    "    if return_code == 0:\n",
    "        print(\"connected\")\n",
    "    else:\n",
    "        print(\"could not connect, return code:\", return_code)\n",
    "        \n",
    "broker_hostname = \"132.145.201.164\"\n",
    "port = 8883\n",
    "\n",
    "client = mqtt.Client(\"Client1\")\n",
    "# #client.tls_set(ca_certs=\"ca.crt\")\n",
    "# client.tls_set(ca_certs=\"ca-root-cert.crt\")\n",
    "client.tls_insecure_set(True)\n",
    "#client = mqtt_client.Client(mqtt_client.CallbackAPIVersion.VERSION1, \"Client1\")\n",
    "client.username_pw_set(username=\"bob\", password=\"xx89\") # uncomment if you use password auth\n",
    "client.on_connect = on_connect\n",
    "\n",
    "client.connect(broker_hostname, port)\n",
    "client.loop_start()\n",
    "\n",
    "topic = \"mytopic\"\n",
    "msg_count = 0\n",
    "\n",
    "try:\n",
    "    while msg_count < 50:\n",
    "        time.sleep(1)\n",
    "        msg_count += 1\n",
    "        message = str(msg_count) + str(uuid.uuid4())\n",
    "        result = client.publish(topic, message)\n",
    "        status = result[0]\n",
    "        if status == 0:\n",
    "            print(\"Message \"+ str(message) + \" is published to topic \" + topic)\n",
    "        else:\n",
    "            print(\"Failed to send message to topic \" + topic)\n",
    "            if not client.is_connected():\n",
    "                print(\"Client not connected, exiting...\")\n",
    "                break\n",
    "finally:\n",
    "    client.disconnect()\n",
    "    client.loop_stop()"
   ]
  },
  {
   "cell_type": "code",
   "execution_count": null,
   "id": "1c2d86d2-caa4-4b77-ba5d-5bfb22924e10",
   "metadata": {},
   "outputs": [],
   "source": []
  },
  {
   "cell_type": "code",
   "execution_count": null,
   "id": "f70d1357-22b1-4869-9eed-a8751653c64f",
   "metadata": {},
   "outputs": [],
   "source": []
  },
  {
   "cell_type": "code",
   "execution_count": null,
   "id": "4213272d-9c4a-4501-9a94-972b5bcf82ac",
   "metadata": {},
   "outputs": [],
   "source": []
  }
 ],
 "metadata": {
  "kernelspec": {
   "display_name": "Python [conda env:pytorch21_p39_gpu_v1]",
   "language": "python",
   "name": "conda-env-pytorch21_p39_gpu_v1-py"
  },
  "language_info": {
   "codemirror_mode": {
    "name": "ipython",
    "version": 3
   },
   "file_extension": ".py",
   "mimetype": "text/x-python",
   "name": "python",
   "nbconvert_exporter": "python",
   "pygments_lexer": "ipython3",
   "version": "3.9.16"
  }
 },
 "nbformat": 4,
 "nbformat_minor": 5
}
